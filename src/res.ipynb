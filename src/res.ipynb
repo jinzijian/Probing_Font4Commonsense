{
 "cells": [
  {
   "cell_type": "code",
   "execution_count": 6,
   "id": "90d43670",
   "metadata": {},
   "outputs": [],
   "source": [
    "import os\n",
    "import numpy as np\n",
    "file_path = '/Users/alexkim/Desktop/seeres.txt'"
   ]
  },
  {
   "cell_type": "code",
   "execution_count": 7,
   "id": "3892dda8",
   "metadata": {},
   "outputs": [
    {
     "name": "stdout",
     "output_type": "stream",
     "text": [
      "alpha1lr 1e-06test es mbert_cnn 30 loss 0.8818076075986028 character 0.6387225548902196\n",
      "\n",
      "60\n"
     ]
    }
   ],
   "source": [
    "f = open(file_path)\n",
    "lines = f.readlines()   \n",
    "print(lines[-1])\n",
    "print(len(lines))"
   ]
  },
  {
   "cell_type": "code",
   "execution_count": 8,
   "id": "5b87e293",
   "metadata": {},
   "outputs": [
    {
     "name": "stdout",
     "output_type": "stream",
     "text": [
      "['alpha1lr 1e-06 val es mbert_cnn 1 loss 1.0984750390052795 character 0.3712574850299401\\n', 'alpha1lr 1e-06 val es mbert_cnn 2 loss 1.0955640487372875 character 0.37924151696606784\\n', 'alpha1lr 1e-06 val es mbert_cnn 3 loss 1.0658617205917835 character 0.44510978043912175\\n', 'alpha1lr 1e-06 val es mbert_cnn 4 loss 1.0396600905805826 character 0.48502994011976047\\n', 'alpha1lr 1e-06 val es mbert_cnn 5 loss 1.0289441272616386 character 0.5029940119760479\\n', 'alpha1lr 1e-06 val es mbert_cnn 6 loss 0.9926812425255775 character 0.5429141716566867\\n', 'alpha1lr 1e-06 val es mbert_cnn 7 loss 0.9595134425908327 character 0.5788423153692615\\n', 'alpha1lr 1e-06 val es mbert_cnn 8 loss 0.9513070657849312 character 0.5848303393213573\\n', 'alpha1lr 1e-06 val es mbert_cnn 9 loss 0.9385567121207714 character 0.5828343313373253\\n', 'alpha1lr 1e-06 val es mbert_cnn 10 loss 0.9303091987967491 character 0.5868263473053892\\n', 'alpha1lr 1e-06 val es mbert_cnn 11 loss 0.9355911239981651 character 0.5888223552894212\\n', 'alpha1lr 1e-06 val es mbert_cnn 12 loss 0.9265382699668407 character 0.5888223552894212\\n', 'alpha1lr 1e-06 val es mbert_cnn 13 loss 0.9233453627675772 character 0.6067864271457086\\n', 'alpha1lr 1e-06 val es mbert_cnn 14 loss 0.9324925299733877 character 0.592814371257485\\n', 'alpha1lr 1e-06 val es mbert_cnn 15 loss 0.9342264086008072 character 0.5848303393213573\\n', 'alpha1lr 1e-06 val es mbert_cnn 16 loss 0.9282794240862131 character 0.592814371257485\\n', 'alpha1lr 1e-06 val es mbert_cnn 17 loss 0.927790954709053 character 0.5968063872255489\\n', 'alpha1lr 1e-06 val es mbert_cnn 18 loss 0.9269400220364332 character 0.5968063872255489\\n', 'alpha1lr 1e-06 val es mbert_cnn 19 loss 0.9321615509688854 character 0.5948103792415169\\n', 'alpha1lr 1e-06 val es mbert_cnn 20 loss 0.9302030391991138 character 0.5968063872255489\\n', 'alpha1lr 1e-06 val es mbert_cnn 21 loss 0.9392608664929867 character 0.5888223552894212\\n', 'alpha1lr 1e-06 val es mbert_cnn 22 loss 0.9472718071192503 character 0.592814371257485\\n', 'alpha1lr 1e-06 val es mbert_cnn 23 loss 0.9434329383075237 character 0.5948103792415169\\n', 'alpha1lr 1e-06 val es mbert_cnn 24 loss 0.9463909640908241 character 0.592814371257485\\n', 'alpha1lr 1e-06 val es mbert_cnn 25 loss 0.9470364917069674 character 0.5948103792415169\\n', 'alpha1lr 1e-06 val es mbert_cnn 26 loss 0.950718903914094 character 0.590818363273453\\n', 'alpha1lr 1e-06 val es mbert_cnn 27 loss 0.9494053199887276 character 0.592814371257485\\n', 'alpha1lr 1e-06 val es mbert_cnn 28 loss 0.9498992823064327 character 0.5948103792415169\\n', 'alpha1lr 1e-06 val es mbert_cnn 29 loss 0.9524530414491892 character 0.5968063872255489\\n', 'alpha1lr 1e-06 val es mbert_cnn 30 loss 0.9513541162014008 character 0.5948103792415169\\n']\n"
     ]
    }
   ],
   "source": [
    "vals = []\n",
    "for i in range(len(lines)):\n",
    "    if i % 2 != 0:\n",
    "        continue\n",
    "    else:\n",
    "        vals.append(lines[i])\n",
    "print(vals)"
   ]
  },
  {
   "cell_type": "code",
   "execution_count": 9,
   "id": "f0513432",
   "metadata": {},
   "outputs": [
    {
     "name": "stdout",
     "output_type": "stream",
     "text": [
      "[1.0984750390052795, 1.0955640487372875, 1.0658617205917835, 1.0396600905805826, 1.0289441272616386, 0.9926812425255775, 0.9595134425908327, 0.9513070657849312, 0.9385567121207714, 0.9303091987967491, 0.9355911239981651, 0.9265382699668407, 0.9233453627675772, 0.9324925299733877, 0.9342264086008072, 0.9282794240862131, 0.927790954709053, 0.9269400220364332, 0.9321615509688854, 0.9302030391991138, 0.9392608664929867, 0.9472718071192503, 0.9434329383075237, 0.9463909640908241, 0.9470364917069674, 0.950718903914094, 0.9494053199887276, 0.9498992823064327, 0.9524530414491892, 0.9513541162014008]\n",
      "12\n"
     ]
    }
   ],
   "source": [
    "loss = []\n",
    "for val in vals:\n",
    "    val = val.split(\" \")\n",
    "    loss.append(float(val[7]))\n",
    "print(loss)\n",
    "min_loss = np.argmin(loss)\n",
    "print(min_loss)\n",
    "import matplotlib.pyplot as plt"
   ]
  },
  {
   "cell_type": "code",
   "execution_count": 10,
   "id": "35fe3b98",
   "metadata": {},
   "outputs": [
    {
     "name": "stdout",
     "output_type": "stream",
     "text": [
      "30\n",
      "12\n",
      "alpha1lr 1e-06test es mbert_cnn 13 loss 0.8920976780354977 character 0.6167664670658682\n",
      "\n",
      "0.9233453627675772\n"
     ]
    },
    {
     "data": {
      "image/png": "[encoded data removed]",
      "text/plain": [
       "<Figure size 432x288 with 1 Axes>"
      ]
     },
     "metadata": {
      "needs_background": "light"
     },
     "output_type": "display_data"
    }
   ],
   "source": [
    "plt.plot(loss[:30]) # 1\n",
    "print(len(loss))\n",
    "min_loss_index = np.argmin(loss[:30])\n",
    "min_loss = np.min(loss[:30])\n",
    "print(min_loss_index)\n",
    "print(lines[min_loss_index * 2 + 1])\n",
    "print(min_loss)"
   ]
  },
  {
   "cell_type": "code",
   "execution_count": null,
   "id": "6eaf883c",
   "metadata": {},
   "outputs": [],
   "source": []
  },
  {
   "cell_type": "code",
   "execution_count": null,
   "id": "a7cc55d1",
   "metadata": {},
   "outputs": [],
   "source": []
  },
  {
   "cell_type": "code",
   "execution_count": null,
   "id": "bd828ebc",
   "metadata": {},
   "outputs": [],
   "source": []
  }
 ],
 "metadata": {
  "kernelspec": {
   "display_name": "Python 3",
   "language": "python",
   "name": "python3"
  },
  "language_info": {
   "codemirror_mode": {
    "name": "ipython",
    "version": 3
   },
   "file_extension": ".py",
   "mimetype": "text/x-python",
   "name": "python",
   "nbconvert_exporter": "python",
   "pygments_lexer": "ipython3",
   "version": "3.8.8"
  }
 },
 "nbformat": 4,
 "nbformat_minor": 5
}
